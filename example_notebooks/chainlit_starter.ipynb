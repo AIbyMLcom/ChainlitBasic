{
  "nbformat": 4,
  "nbformat_minor": 0,
  "metadata": {
    "colab": {
      "provenance": [],
      "authorship_tag": "ABX9TyPe/H2+ae/ak4isU4H/Pgmv",
      "include_colab_link": true
    },
    "kernelspec": {
      "name": "python3",
      "display_name": "Python 3"
    },
    "language_info": {
      "name": "python"
    }
  },
  "cells": [
    {
      "cell_type": "markdown",
      "metadata": {
        "id": "view-in-github",
        "colab_type": "text"
      },
      "source": [
        "<a href=\"https://colab.research.google.com/github/sandorkonya/chainlit/blob/main/example_notebooks/chainlit_starter.ipynb\" target=\"_parent\"><img src=\"https://colab.research.google.com/assets/colab-badge.svg\" alt=\"Open In Colab\"/></a>"
      ]
    },
    {
      "cell_type": "code",
      "execution_count": null,
      "metadata": {
        "id": "pmgfCcJdkrLg"
      },
      "outputs": [],
      "source": [
        "!pip install chainlit\n",
        "!npm install localtunnel"
      ]
    },
    {
      "cell_type": "code",
      "source": [
        "%%writefile app.py\n",
        "import chainlit as cl\n",
        "\n",
        "@cl.on_message\n",
        "async def main(message: str):\n",
        "    # Your custom logic goes here...\n",
        "\n",
        "    # Send a response back to the user\n",
        "    await cl.Message(\n",
        "        content=f\"Received: {message}\",\n",
        "    ).send()"
      ],
      "metadata": {
        "colab": {
          "base_uri": "https://localhost:8080/"
        },
        "id": "CwcNZHGVovQW",
        "outputId": "7473bb6f-3dfc-470d-92f9-6ecdf103cf8a"
      },
      "execution_count": null,
      "outputs": [
        {
          "output_type": "stream",
          "name": "stdout",
          "text": [
            "Writing app.py\n"
          ]
        }
      ]
    },
    {
      "cell_type": "code",
      "source": [
        "print(\"############\")\n",
        "print(\"IP v\")\n",
        "!curl https://ipv4.icanhazip.com/\n",
        "print(\"############\")"
      ],
      "metadata": {
        "colab": {
          "base_uri": "https://localhost:8080/"
        },
        "id": "WiTnqSOXk0DG",
        "outputId": "d1bdf508-b2ed-4ce6-c69d-725a82b1e672"
      },
      "execution_count": null,
      "outputs": [
        {
          "output_type": "stream",
          "name": "stdout",
          "text": [
            "############\n",
            "IP v\n",
            "xx.xxx.xx.xxx\n",
            "############\n"
          ]
        }
      ]
    },
    {
      "cell_type": "code",
      "source": [
        "# booting server\n",
        "!chainlit run app.py & npx localtunnel --port 8000"
      ],
      "metadata": {
        "id": "TpHWDp3qo9oP"
      },
      "execution_count": null,
      "outputs": []
    },
    {
      "cell_type": "code",
      "source": [
        "pid = !ps aux | grep \"chainlit\" | awk '{print $2}'\n",
        "pid=pid[0]\n",
        "!kill $pid"
      ],
      "metadata": {
        "id": "s129JAGYlTos"
      },
      "execution_count": null,
      "outputs": []
    }
  ]
}